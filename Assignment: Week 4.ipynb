{
    "cells": [
        {
            "metadata": {
                "collapsed": true
            },
            "cell_type": "markdown",
            "source": "# My Jupyter Notebook on IBM Watson Studio"
        },
        {
            "metadata": {},
            "cell_type": "markdown",
            "source": "**Chiragkumar Shah**  \nTest Engineering - Team Lead"
        },
        {
            "metadata": {},
            "cell_type": "markdown",
            "source": "_I am interested in data science because it is the most popular, interesting, demanding and Highly Paid Job Role in Market._"
        },
        {
            "metadata": {},
            "cell_type": "markdown",
            "source": "### Below code is suppose to perform Addition of 2 integers."
        },
        {
            "metadata": {},
            "cell_type": "code",
            "source": "print(55+53)",
            "execution_count": 1,
            "outputs": [
                {
                    "output_type": "stream",
                    "text": "108\n",
                    "name": "stdout"
                }
            ]
        },
        {
            "metadata": {},
            "cell_type": "markdown",
            "source": "---\n**Click Below Link to Open Google Search Page.**  \n___\n[Google Search Engine](https://www.google.com \"Google's Homepage\")  \n***\n1. Apple  \n2. Banana  \n3. Cherry  \n\u22c5\u22c5 **Fruit Name list.**  \n***  \n_Employee Table_\n***  \nNumber | First Name | Hobby\n--- | --- | ---\n*C001* | `Chiragkumar` | **Travelling**\n***"
        },
        {
            "metadata": {},
            "cell_type": "code",
            "source": "",
            "execution_count": null,
            "outputs": []
        }
    ],
    "metadata": {
        "kernelspec": {
            "name": "python3",
            "display_name": "Python 3.10",
            "language": "python"
        },
        "language_info": {
            "name": "python",
            "version": "3.10.6",
            "mimetype": "text/x-python",
            "codemirror_mode": {
                "name": "ipython",
                "version": 3
            },
            "pygments_lexer": "ipython3",
            "nbconvert_exporter": "python",
            "file_extension": ".py"
        }
    },
    "nbformat": 4,
    "nbformat_minor": 1
}